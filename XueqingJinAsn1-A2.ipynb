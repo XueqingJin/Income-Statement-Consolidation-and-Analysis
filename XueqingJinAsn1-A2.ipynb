{
 "cells": [
  {
   "cell_type": "code",
   "execution_count": 1,
   "metadata": {},
   "outputs": [],
   "source": [
    "import pandas as pd"
   ]
  },
  {
   "cell_type": "code",
   "execution_count": 9,
   "metadata": {},
   "outputs": [],
   "source": [
    "df = pd.read_excel('incstmt-0.xlsx') # initialize a dataframe with all 0s, using the supplied .xlsx\n",
    "divisions = ['diva', 'divb']\n",
    "for i in divisions:\n",
    "    file = 'incstmt-{0}.xlsx'.format(str(i)[:7] + str(i)[7:]) \n",
    "    df_div = pd.read_excel(file) \n",
    "    df+=df_div\n",
    "df.drop([\"Description\"],axis=1,inplace=True) \n",
    "df.drop([0],inplace=True)\n",
    "df[\"CODE\"]=df_div[\"CODE\"]\n",
    "df.set_index('CODE',inplace=True)"
   ]
  },
  {
   "cell_type": "code",
   "execution_count": 10,
   "metadata": {},
   "outputs": [
    {
     "data": {
      "text/html": [
       "<div>\n",
       "<style scoped>\n",
       "    .dataframe tbody tr th:only-of-type {\n",
       "        vertical-align: middle;\n",
       "    }\n",
       "\n",
       "    .dataframe tbody tr th {\n",
       "        vertical-align: top;\n",
       "    }\n",
       "\n",
       "    .dataframe thead th {\n",
       "        text-align: right;\n",
       "    }\n",
       "</style>\n",
       "<table border=\"1\" class=\"dataframe\">\n",
       "  <thead>\n",
       "    <tr style=\"text-align: right;\">\n",
       "      <th></th>\n",
       "      <th>Act2018</th>\n",
       "      <th>Act2019</th>\n",
       "      <th>Proj2020</th>\n",
       "    </tr>\n",
       "    <tr>\n",
       "      <th>CODE</th>\n",
       "      <th></th>\n",
       "      <th></th>\n",
       "      <th></th>\n",
       "    </tr>\n",
       "  </thead>\n",
       "  <tbody>\n",
       "    <tr>\n",
       "      <th>SALE</th>\n",
       "      <td>77.6</td>\n",
       "      <td>75.3</td>\n",
       "      <td>86.2</td>\n",
       "    </tr>\n",
       "    <tr>\n",
       "      <th>CGS</th>\n",
       "      <td>32.5</td>\n",
       "      <td>33.5</td>\n",
       "      <td>34.4</td>\n",
       "    </tr>\n",
       "    <tr>\n",
       "      <th>PROF</th>\n",
       "      <td>45.1</td>\n",
       "      <td>41.8</td>\n",
       "      <td>51.8</td>\n",
       "    </tr>\n",
       "    <tr>\n",
       "      <th>SGA</th>\n",
       "      <td>3.9</td>\n",
       "      <td>3.6</td>\n",
       "      <td>4.5</td>\n",
       "    </tr>\n",
       "    <tr>\n",
       "      <th>ADV</th>\n",
       "      <td>2.4</td>\n",
       "      <td>2.4</td>\n",
       "      <td>2.8</td>\n",
       "    </tr>\n",
       "    <tr>\n",
       "      <th>DEP</th>\n",
       "      <td>4.7</td>\n",
       "      <td>4.7</td>\n",
       "      <td>5.5</td>\n",
       "    </tr>\n",
       "    <tr>\n",
       "      <th>RENT</th>\n",
       "      <td>3.2</td>\n",
       "      <td>2.7</td>\n",
       "      <td>2.2</td>\n",
       "    </tr>\n",
       "    <tr>\n",
       "      <th>OTHX</th>\n",
       "      <td>5.1</td>\n",
       "      <td>5.3</td>\n",
       "      <td>5.6</td>\n",
       "    </tr>\n",
       "    <tr>\n",
       "      <th>EXP</th>\n",
       "      <td>19.3</td>\n",
       "      <td>18.7</td>\n",
       "      <td>20.6</td>\n",
       "    </tr>\n",
       "    <tr>\n",
       "      <th>EBT</th>\n",
       "      <td>25.8</td>\n",
       "      <td>23.1</td>\n",
       "      <td>31.2</td>\n",
       "    </tr>\n",
       "  </tbody>\n",
       "</table>\n",
       "</div>"
      ],
      "text/plain": [
       "      Act2018  Act2019  Proj2020\n",
       "CODE                            \n",
       "SALE     77.6     75.3      86.2\n",
       "CGS      32.5     33.5      34.4\n",
       "PROF     45.1     41.8      51.8\n",
       "SGA       3.9      3.6       4.5\n",
       "ADV       2.4      2.4       2.8\n",
       "DEP       4.7      4.7       5.5\n",
       "RENT      3.2      2.7       2.2\n",
       "OTHX      5.1      5.3       5.6\n",
       "EXP      19.3     18.7      20.6\n",
       "EBT      25.8     23.1      31.2"
      ]
     },
     "execution_count": 10,
     "metadata": {},
     "output_type": "execute_result"
    }
   ],
   "source": [
    "df"
   ]
  },
  {
   "cell_type": "code",
   "execution_count": null,
   "metadata": {},
   "outputs": [],
   "source": []
  }
 ],
 "metadata": {
  "kernelspec": {
   "display_name": "Python 3",
   "language": "python",
   "name": "python3"
  },
  "language_info": {
   "codemirror_mode": {
    "name": "ipython",
    "version": 3
   },
   "file_extension": ".py",
   "mimetype": "text/x-python",
   "name": "python",
   "nbconvert_exporter": "python",
   "pygments_lexer": "ipython3",
   "version": "3.7.1"
  }
 },
 "nbformat": 4,
 "nbformat_minor": 2
}
