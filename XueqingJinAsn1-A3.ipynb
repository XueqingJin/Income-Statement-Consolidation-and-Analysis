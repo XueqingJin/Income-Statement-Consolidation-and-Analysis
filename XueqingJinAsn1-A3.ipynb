{
 "cells": [
  {
   "cell_type": "code",
   "execution_count": 15,
   "metadata": {},
   "outputs": [],
   "source": [
    "import pandas as pd"
   ]
  },
  {
   "cell_type": "code",
   "execution_count": 18,
   "metadata": {},
   "outputs": [],
   "source": [
    "df = pd.DataFrame()\n",
    "divisions = ['diva', 'divb']\n",
    "gr = []\n",
    "om = []\n",
    "for i in divisions:\n",
    "    file = 'incstmt-{0}.xlsx'.format(str(i)[:7] + str(i)[7:])   \n",
    "    df = pd.read_excel(file)\n",
    "    growth_rate = []\n",
    "    operating_margin = []\n",
    "    for j in range(2,len(df.columns)-1):\n",
    "        a = \"%.1f%%\" % ((df.iloc[1,j+1]-df.iloc[1,j])/(df.iloc[1,j]) * 100)\n",
    "        b = \"%.1f%%\" % ((df.iloc[10,j+1])/(df.iloc[1,j+1]) * 100)\n",
    "        growth_rate.append(a)\n",
    "        operating_margin.append(b)\n",
    "    gr.append(growth_rate)\n",
    "    om.append(operating_margin)"
   ]
  },
  {
   "cell_type": "code",
   "execution_count": 19,
   "metadata": {},
   "outputs": [
    {
     "name": "stdout",
     "output_type": "stream",
     "text": [
      "Sales Growth Review: \n"
     ]
    },
    {
     "data": {
      "text/html": [
       "<div>\n",
       "<style scoped>\n",
       "    .dataframe tbody tr th:only-of-type {\n",
       "        vertical-align: middle;\n",
       "    }\n",
       "\n",
       "    .dataframe tbody tr th {\n",
       "        vertical-align: top;\n",
       "    }\n",
       "\n",
       "    .dataframe thead th {\n",
       "        text-align: right;\n",
       "    }\n",
       "</style>\n",
       "<table border=\"1\" class=\"dataframe\">\n",
       "  <thead>\n",
       "    <tr style=\"text-align: right;\">\n",
       "      <th></th>\n",
       "      <th>2018-2019</th>\n",
       "      <th>2019-2020</th>\n",
       "      <th>trend</th>\n",
       "    </tr>\n",
       "    <tr>\n",
       "      <th>Div</th>\n",
       "      <th></th>\n",
       "      <th></th>\n",
       "      <th></th>\n",
       "    </tr>\n",
       "  </thead>\n",
       "  <tbody>\n",
       "    <tr>\n",
       "      <th>A</th>\n",
       "      <td>-8.2%</td>\n",
       "      <td>24.6%</td>\n",
       "      <td>+</td>\n",
       "    </tr>\n",
       "    <tr>\n",
       "      <th>B</th>\n",
       "      <td>3.9%</td>\n",
       "      <td>2.9%</td>\n",
       "      <td>-</td>\n",
       "    </tr>\n",
       "  </tbody>\n",
       "</table>\n",
       "</div>"
      ],
      "text/plain": [
       "    2018-2019 2019-2020 trend\n",
       "Div                          \n",
       "A       -8.2%     24.6%     +\n",
       "B        3.9%      2.9%     -"
      ]
     },
     "execution_count": 19,
     "metadata": {},
     "output_type": "execute_result"
    }
   ],
   "source": [
    "#calculate Sales Growth: \n",
    "print(\"Sales Growth Review: \")\n",
    "df4 = pd.DataFrame(gr, columns=['2018-2019','2019-2020'],index=list('AB'))\n",
    "df4.index.name = 'Div'\n",
    "trend = []\n",
    "for j in range(len(gr)):\n",
    "    if float(df4.iloc[j,0].split(\"%\")[0]) < float(df4.iloc[j,1].split(\"%\")[0]):\n",
    "        trend.append(\"+\")\n",
    "    elif float(df4.iloc[j,0].split(\"%\")[0]) > float(df4.iloc[j,1].split(\"%\")[0]):\n",
    "        trend.append(\"-\")\n",
    "df4[\"trend\"] = trend\n",
    "df4\n"
   ]
  },
  {
   "cell_type": "code",
   "execution_count": 20,
   "metadata": {},
   "outputs": [
    {
     "name": "stdout",
     "output_type": "stream",
     "text": [
      "Operating Margin Review: \n"
     ]
    },
    {
     "data": {
      "text/html": [
       "<div>\n",
       "<style scoped>\n",
       "    .dataframe tbody tr th:only-of-type {\n",
       "        vertical-align: middle;\n",
       "    }\n",
       "\n",
       "    .dataframe tbody tr th {\n",
       "        vertical-align: top;\n",
       "    }\n",
       "\n",
       "    .dataframe thead th {\n",
       "        text-align: right;\n",
       "    }\n",
       "</style>\n",
       "<table border=\"1\" class=\"dataframe\">\n",
       "  <thead>\n",
       "    <tr style=\"text-align: right;\">\n",
       "      <th></th>\n",
       "      <th>Act2019</th>\n",
       "      <th>Proj2020</th>\n",
       "      <th>Trend</th>\n",
       "    </tr>\n",
       "    <tr>\n",
       "      <th>Div</th>\n",
       "      <th></th>\n",
       "      <th></th>\n",
       "      <th></th>\n",
       "    </tr>\n",
       "  </thead>\n",
       "  <tbody>\n",
       "    <tr>\n",
       "      <th>A</th>\n",
       "      <td>28.3%</td>\n",
       "      <td>39.0%</td>\n",
       "      <td>+</td>\n",
       "    </tr>\n",
       "    <tr>\n",
       "      <th>B</th>\n",
       "      <td>33.4%</td>\n",
       "      <td>32.2%</td>\n",
       "      <td>-</td>\n",
       "    </tr>\n",
       "  </tbody>\n",
       "</table>\n",
       "</div>"
      ],
      "text/plain": [
       "    Act2019 Proj2020 Trend\n",
       "Div                       \n",
       "A     28.3%    39.0%     +\n",
       "B     33.4%    32.2%     -"
      ]
     },
     "execution_count": 20,
     "metadata": {},
     "output_type": "execute_result"
    }
   ],
   "source": [
    "#Calculate Operating Margin:\n",
    "print(\"Operating Margin Review: \")\n",
    "df5 = pd.DataFrame(om, columns=['Act2019','Proj2020'],index=list('AB'))\n",
    "df5.index.name = 'Div'\n",
    "Trend = []\n",
    "for k in range(len(om)):\n",
    "    if float(df5.iloc[k,0].split(\"%\")[0]) < float(df5.iloc[k,1].split(\"%\")[0]):\n",
    "        Trend.append(\"+\")\n",
    "    elif float(df5.iloc[k,0].split(\"%\")[0]) > float(df5.iloc[k,1].split(\"%\")[0]):\n",
    "        Trend.append(\"-\")\n",
    "df5[\"Trend\"] = Trend\n",
    "df5"
   ]
  },
  {
   "cell_type": "code",
   "execution_count": null,
   "metadata": {},
   "outputs": [],
   "source": []
  }
 ],
 "metadata": {
  "kernelspec": {
   "display_name": "Python 3",
   "language": "python",
   "name": "python3"
  },
  "language_info": {
   "codemirror_mode": {
    "name": "ipython",
    "version": 3
   },
   "file_extension": ".py",
   "mimetype": "text/x-python",
   "name": "python",
   "nbconvert_exporter": "python",
   "pygments_lexer": "ipython3",
   "version": "3.7.1"
  }
 },
 "nbformat": 4,
 "nbformat_minor": 2
}
